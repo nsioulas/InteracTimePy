{
 "cells": [
  {
   "cell_type": "markdown",
   "id": "6eee7daf-b183-4a4e-892d-d981e27d4ea4",
   "metadata": {},
   "source": [
    "# Load libraries"
   ]
  },
  {
   "cell_type": "code",
   "execution_count": 14,
   "id": "2ff9a69b-b3b3-41ff-b225-7086e3f80116",
   "metadata": {},
   "outputs": [],
   "source": [
    "import importlib.util\n",
    "import os\n",
    "import pandas as pd\n",
    "import numpy as np\n",
    "\n",
    "# Get the current working directory (where the notebook is located)\n",
    "current_dir = os.getcwd()\n",
    "module_name = \"InteracTimePy\"\n",
    "module_path = os.path.join(current_dir, f\"{module_name}/{module_name}.py\")\n",
    "\n",
    "# Load the module dynamically\n",
    "spec = importlib.util.spec_from_file_location(module_name, module_path)\n",
    "InteracTimePy = importlib.util.module_from_spec(spec)\n",
    "spec.loader.exec_module(InteracTimePy)\n",
    "\n",
    "# Now you can use functions from InteracTimePy as usual\n",
    "# Example: calling `interactive_timeseries_plot` function if it exists\n",
    "# InteracTimePy.interactive_timeseries_plot()\n"
   ]
  },
  {
   "cell_type": "markdown",
   "id": "f8892b8f-a41e-47b9-a422-d95dbade798f",
   "metadata": {},
   "source": [
    "# MRE"
   ]
  },
  {
   "cell_type": "code",
   "execution_count": 15,
   "id": "ece09182-a0cb-42cf-bde1-2e8558dbadf9",
   "metadata": {},
   "outputs": [
    {
     "name": "stderr",
     "output_type": "stream",
     "text": [
      "C:\\Users\\Lenovo\\AppData\\Local\\Temp\\ipykernel_14996\\504952443.py:2: FutureWarning:\n",
      "\n",
      "'H' is deprecated and will be removed in a future version, please use 'h' instead.\n",
      "\n",
      "C:\\Users\\Lenovo\\AppData\\Local\\Temp\\ipykernel_14996\\504952443.py:7: FutureWarning:\n",
      "\n",
      "'H' is deprecated and will be removed in a future version, please use 'h' instead.\n",
      "\n"
     ]
    },
    {
     "data": {
      "application/vnd.jupyter.widget-view+json": {
       "model_id": "8d5417004f9649b789b08dab6633a047",
       "version_major": 2,
       "version_minor": 0
      },
      "text/plain": [
       "VBox(children=(FigureWidget({\n",
       "    'data': [{'mode': 'lines',\n",
       "              'name': 'Sensor1',\n",
       "              's…"
      ]
     },
     "metadata": {},
     "output_type": "display_data"
    }
   ],
   "source": [
    "\n",
    "# DataFrame 1\n",
    "dates1 = pd.date_range('2021-01-01', periods=1000, freq='H')\n",
    "data1 = np.random.randn(1000, 2)\n",
    "df1 = pd.DataFrame(data1, index=dates1, columns=['Sensor1', 'Sensor2'])\n",
    "\n",
    "# DataFrame 2\n",
    "dates2 = pd.date_range('2021-01-01', periods=500, freq='2H')\n",
    "data2 = 10*np.random.randn(500, 2)\n",
    "df2 = pd.DataFrame(data2, index=dates2, columns=['Sensor3', 'Sensor4'])\n",
    "\n",
    "save_path = './results'\n",
    "\n",
    "\n",
    "plot_config = [\n",
    "    {'columns': ['Sensor1', 'Sensor3'], 'axis_type': ['linear', 'linear'], 'twin_axes': True, 'y_label': ['Sensor1', 'Sensor3']},\n",
    "    {'columns': ['Sensor2', 'Sensor4'], 'axis_type': ['linear', 'linear'], 'twin_axes': True, 'y_label': ['Sensor2', 'Sensor4']}\n",
    "]\n",
    "\n",
    "InteracTimePy.interactive_timeseries_plot([df1, df2], save_path, plot_config, width=800, height_per_subplot=250, resample_rule='1h')\n",
    "\n",
    "\n",
    "\n"
   ]
  },
  {
   "cell_type": "code",
   "execution_count": null,
   "id": "4b250fba-06f9-4659-be8b-a4d0eda557cb",
   "metadata": {},
   "outputs": [],
   "source": []
  }
 ],
 "metadata": {
  "kernelspec": {
   "display_name": "Python 3 (ipykernel)",
   "language": "python",
   "name": "python3"
  },
  "language_info": {
   "codemirror_mode": {
    "name": "ipython",
    "version": 3
   },
   "file_extension": ".py",
   "mimetype": "text/x-python",
   "name": "python",
   "nbconvert_exporter": "python",
   "pygments_lexer": "ipython3",
   "version": "3.11.10"
  }
 },
 "nbformat": 4,
 "nbformat_minor": 5
}
